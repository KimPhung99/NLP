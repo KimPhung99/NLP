{
  "nbformat": 4,
  "nbformat_minor": 0,
  "metadata": {
    "colab": {
      "name": "Split_textHTML.ipynb",
      "provenance": [],
      "collapsed_sections": [],
      "toc_visible": true
    },
    "kernelspec": {
      "name": "python3",
      "display_name": "Python 3"
    },
    "accelerator": "GPU"
  },
  "cells": [
    {
      "cell_type": "markdown",
      "metadata": {
        "id": "a83WT1R4Qxp7"
      },
      "source": [
        "# Lấy nội dung bài báo từ website và phân loại từng từ trong bài báo"
      ]
    },
    {
      "cell_type": "markdown",
      "metadata": {
        "id": "Hhhio_-AQkBu"
      },
      "source": [
        "Các bước : Phân tích dạng html của trang web --> Lấy file html của website --> Lấy nội dung của bài báo --> Phân loại từ loại"
      ]
    },
    {
      "cell_type": "markdown",
      "metadata": {
        "id": "8jwJ8fKWQeF6"
      },
      "source": [
        "Chọn một bài báo bất kỳ trong trang web Dân trí : https://dantri.com.vn\n",
        "\n",
        "\n",
        "*   Dễ thấy được nội dung 1 bài báo nào cũng được bắt đầu từ thẻ **<h1 class =\" dt-news__title\"**\n",
        "\n",
        "*   Kết thúc ở thẻ **<div id=\"tin-lien-quan\"**\n",
        "\n"
      ]
    },
    {
      "cell_type": "markdown",
      "metadata": {
        "id": "EqYp8n794XW5"
      },
      "source": [
        "\n",
        "#1. Import các thư viện cần thiết\n",
        "\n"
      ]
    },
    {
      "cell_type": "code",
      "metadata": {
        "id": "Ln8zR40g6KqS",
        "colab": {
          "base_uri": "https://localhost:8080/",
          "height": 34
        },
        "outputId": "831476b9-6832-4bfa-8a75-4fb098826980"
      },
      "source": [
        "# Lấy source html của trang web\n",
        "import urllib3\n",
        "\n",
        "#Tìm kiếm trong python\n",
        "import re  \n",
        "\n",
        "# Chuẩn hóa các ký tự đặc biệt có trong text ( vd: &, vv...)\n",
        "import html\n",
        "\n",
        "# Phân loại danh từ, động từ,... trong text\n",
        "from pyvi import ViTokenizer, ViPosTagger\n",
        "\n",
        "print(\"import ok\")"
      ],
      "execution_count": null,
      "outputs": [
        {
          "output_type": "stream",
          "text": [
            "import ok\n"
          ],
          "name": "stdout"
        }
      ]
    },
    {
      "cell_type": "markdown",
      "metadata": {
        "id": "_qkvyDlJ9hVM"
      },
      "source": [
        "# 2. Lấy file html của trang web"
      ]
    },
    {
      "cell_type": "markdown",
      "metadata": {
        "id": "EkY6HvCw-CWV"
      },
      "source": [
        "Using: https://urllib3.readthedocs.io/en/latest/"
      ]
    },
    {
      "cell_type": "code",
      "metadata": {
        "id": "IkJ5UkjA9lb2",
        "colab": {
          "base_uri": "https://localhost:8080/",
          "height": 34
        },
        "outputId": "5f9a8324-5e64-4179-b681-8852d845ea99"
      },
      "source": [
        "http = urllib3.PoolManager()\n",
        "# Sử dụng hàm request trong urllib3 + phương thức GET ( lấy ) dữ liệu html\n",
        "r = http.request('GET', \n",
        "                 'https://dantri.com.vn/xa-hoi/lu-rut-anh-ve-nhung-khong-con-chao-ai-duoc-nua-20201023115203360.htm')\n",
        "\n",
        "# Chuẩn hóa dữ liệu sang UTF-8\n",
        "txt = r.data.decode('utf-8')\n",
        "print(\"HTML ok\")"
      ],
      "execution_count": null,
      "outputs": [
        {
          "output_type": "stream",
          "text": [
            "HTML ok\n"
          ],
          "name": "stdout"
        }
      ]
    },
    {
      "cell_type": "markdown",
      "metadata": {
        "id": "clna-HX1-gWj"
      },
      "source": [
        "# 3. Tách lấy nội dung bài báo từ txt"
      ]
    },
    {
      "cell_type": "markdown",
      "metadata": {
        "id": "f2VCV-gi_28h"
      },
      "source": [
        "Sử dụng biến:\n",
        "\n",
        "\n",
        "*   start: đánh dấu vị trí bắt đầu của bài báo\n",
        "*   first: đánh dấu vị trí bắt đầu từng đoạn text cần lấy\n",
        "*   second: đánh dấu vị trí kết thúc từng đoạn text\n",
        "*   data: array lưu nội dung bài báo cần lấy\n",
        "\n",
        "Trong bài báo có chèn ảnh nên ta phải loại bỏ đi ảnh + nội dung (text) của ảnh:\n",
        "\n",
        "\n",
        "*   text: kiểm tra nếu đang trong thẻ của ảnh **<figcaption** thì không lấy data\n",
        "\n",
        "\n",
        "\n"
      ]
    },
    {
      "cell_type": "code",
      "metadata": {
        "id": "L4c0Kx8n-vZT",
        "colab": {
          "base_uri": "https://localhost:8080/",
          "height": 373
        },
        "outputId": "aa2f92a0-43a3-43c4-da4b-1cfe5601a21c"
      },
      "source": [
        "def GetData(txt):\n",
        "  start = txt.find('<h1 class=\"dt-news__title\">', 0)\n",
        "  # print(start)\n",
        "\n",
        "  test = False\n",
        "  data = []\n",
        "\n",
        "  while True:\n",
        "    #tim vt đầu tiên xuất hiện '>' sau vt start\n",
        "    first = txt.find('>', start)\n",
        "    # print(\"first\", first)\n",
        "    if first == -1: # nếu không tìm thấy thì thoát\n",
        "      break\n",
        "\n",
        "     #tìm vt đầu tiên xuất hiện '<' sau vt first\n",
        "    second = txt.find('<', first)\n",
        "    # print(second)\n",
        "    if second == -1: # nếu không tìm thấy thì thoát\n",
        "      break\n",
        "      \n",
        "    #nội dung cần lấy có dạng: \">...abc...<\", trong đó vt '>' và vt '<' đã tìm thấy: first, second\n",
        "    sub = txt[first+1:second].strip()\n",
        "    \n",
        "    #kiểm tra xem đoạn đầu có phải thuộc các thẻ không trong nội dung không ( bao gồm: phần ngoài nội dung bài báo + phần ảnh trong bài báo) \n",
        "    check = txt[start:first+1].strip()\n",
        "    \n",
        "    if check.find('id=\"tin-lien-quan\"') != -1:\n",
        "        break\n",
        "    if check.find('<figcaption') !=-1:\n",
        "        test = True\n",
        "    if check.find('</figcaption') !=-1:\n",
        "        test = False\n",
        "    if len(sub) > 0 and test == False:\n",
        "        data.append(sub)\n",
        "    start = second #update lại start là vị trí\n",
        "  return data\n",
        "\n",
        "li = GetData(txt)\n",
        "for i in li:\n",
        "  print(i)\n"
      ],
      "execution_count": null,
      "outputs": [
        {
          "output_type": "stream",
          "text": [
            "Lũ rút, anh về nhưng… không còn chào ai được nữa!\n",
            "Dân trí\n",
            "Sáng 23/10, đường dẫn vào nhà ông Ngô Bá Cường (SN 1960, xã Thạch Thắng, huyện Thạch Hà, Hà Tĩnh) nước đã rút, nắng đã lên, nhưng không khí vô cùng buồn thương khi đón liệt sĩ Ngô Bá Văn trở về.\n",
            "Đón người con quê hương\n",
            "Tối ngày 22/10, tại Đài hóa thân hoàn vũ xã Lưu Vĩnh Sơn, huyện Thạch Hà (Hà Tĩnh), lãnh đạo Quân khu 4, tỉnh Hà Tĩnh và các sở ngành, địa phương... đã tới dâng hương tiễn đưa các liệt sĩ Đoàn Kinh tế - Quốc phòng 337 hy sinh trong khi làm nhiệm vụ giúp Nhân dân khắc phục hậu quả mưa lũ tại tỉnh Quảng Trị về nơi an nghỉ cuối cùng.\n",
            "Trước đó rạng sáng 18/10, tại thôn Cợp, xã Hướng Phùng, huyện Hướng Hóa, tỉnh Quảng Trị xảy ra vụ sạt lở đất nghiêm trọng. Đây là nơi ở của 27 cán bộ, chiến sĩ của Đoàn Kinh tế - Quốc phòng 337 đang thực hiện nhiệm vụ giúp dân khắc phục hậu quả mưa lũ. Vụ sạt lở đất đã khiến 22 cán bộ, chiến sĩ hy sinh, trong đó có Thượng úy quân nhân chuyên nghiệp Ngô Bá Văn (sinh ngày 8/1/1984, tại thôn Thạch Thắng, huyện Thạch Hà, tỉnh Hà Tĩnh).\n",
            "Ngay sau lễ viếng, truy điệu tại Quảng Trị, trưa 22/10, lễ di quan đã được tiến hành để tiễn đưa các liệt sĩ về địa phương.\n",
            "7h sáng 23/10, tuyến đường thôn Trung Phú (trước đó một ngày vẫn chìm sâu trong lũ) dẫn vào nhà ông Ngô Bá Cường - bố đẻ của liệt sĩ Ngô Bá Văn - rợp cờ đỏ sao vàng. Hàng trăm người dân tập trung đến căn nhà cấp 4 chật hẹp đón liệt sĩ Ngô Bá Văn trở về trong niềm thương tiếc.\n",
            "Bà Phan Thị Hoa (SN 1965, xã Thạch Thắng) cho biết, những ngày qua xã nhà ngập chìm trong lũ lụt, nay liệt sĩ Văn trở về, nước đã rút, bà con làng xóm đến thăm nhưng anh không còn có thể chào ai được nữa.\n",
            "“Anh Văn sống hiền lành, mỗi lần cất phép về quê đều niềm nở đến thăm hỏi bà con. Giờ anh gặp nạn, bà con chúng tôi đến thăm anh nhưng có bao giờ nghe anh nói được nữa đâu chú…!” - bà Hoa gạt nước mắt.\n",
            "“Bố về nhưng các con không còn được ôm nữa!”\n",
            "Gia đình quân nhân Ngô Bá Văn có hoàn cảnh khó khăn. Bố mẹ đã già yếu, vợ đi xuất khẩu lao động ở nước ngoài, hai con nhỏ là cháu Ngô Bá Nhật Anh (9 tuổi) và Ngô Bá Bảo Nguyên (7 tuổi) hiện đang nhờ ông bà nội trông nom.\n",
            "Khi nghe tin chồng hy sinh trong lúc làm nhiệm vụ, chị Lê Thị Thủy vợ liệt sĩ Ngô Bá Văn đang đi làm ăn ở nước ngoài vội vã về chịu tang chồng, nhưng vì diễn biến phức tạp của dịch Covid -19, chị đã phải\n",
            "chịu tang chồng trong khu cách ly\n",
            "xã Thanh Hưng, huyện Thanh Chương.\n",
            "Ông Ngô Bá Cường (SN 1960) và bà Lê Thị Khẩn (SN 1960) từ khi nghe con gặp nạn, không đêm nào chợp mắt. Đã khóc cạn nước mắt, hôm nay đón con về ông Cường không thể đi nổi, cứ ngồi bệt ở góc nhà khản giọng gọi tên con.\n",
            "“Vợ nó đi xuất khẩu lao động, 2 đứa con nhỏ gửi cho vợ chồng tôi chăm non. Một năm nó về được có mấy lần, lần này đi làm nhiệm vụ nó có gọi về cho tôi dặn dò bố mẹ ở nhà giữ gìn sức khỏe, dạy bảo các cháu chăm chỉ học hành. Có ngờ đâu, đó là lời dặn dò cuối cùng.” – ông Cường khóc nghẹn.\n",
            "Xót xa hơn là hai đứa nhỏ phải xa bố mẹ, chúng luôn trông ngóng những lần bố về để chạy ra được bố bế lên vai âu yếm. Thế mà lần này bố các cháu đã về nhưng không còn hình hài nữa, những đứa trẻ chỉ biết đứng từ xa, bần thần rơi nước mắt nhìn linh cữu.\n",
            "“Các cháu nó thường xuyên hỏi ông bà khi nào bố về để được ôm lấy bố. Giờ bố về rồi đó các con ơi, nhưng các con có bao giờ được ôm lấy bố nữa đâu” – ông Cường gạt nước mắt đau đớn.\n",
            "Tiến Hiệp\n"
          ],
          "name": "stdout"
        }
      ]
    },
    {
      "cell_type": "markdown",
      "metadata": {
        "id": "ImXNmldgHxD9"
      },
      "source": [
        "#4. Phân loại các từ trong câu"
      ]
    },
    {
      "cell_type": "markdown",
      "metadata": {
        "id": "bSYaRCxCH-B0"
      },
      "source": [
        "\n",
        "\n",
        "Tách dữ liệu thành từng câu: Sau dấu chấm \".\" hoặc dấu hỏi \"?\" được tính là kết thúc câu.\n",
        "\n",
        "Phân loại từng từ loại trong mỗi câu sử dụng thư viện Pyvi: https://pypi.org/project/pyvi/ :\n",
        "\n",
        "\n",
        "* A - Adjective\n",
        "* C - Coordinating conjunction\n",
        "* E - Preposition\n",
        "* I - Interjection\n",
        "* L - Determiner\n",
        "* M - Numeral\n",
        "* N - Common noun\n",
        "* Nc - Noun Classifier\n",
        "* Ny - Noun abbreviation\n",
        "* Np - Proper noun\n",
        "* Nu - Unit noun\n",
        "* P - Pronoun\n",
        "* R - Adverb\n",
        "* S - Subordinating conjunction\n",
        "* T - Auxiliary, modal words\n",
        "* V - Verb\n",
        "* X - Unknown\n",
        "* F - Filtered out (punctuation)\n",
        "\n",
        "\n",
        "\n"
      ]
    },
    {
      "cell_type": "code",
      "metadata": {
        "id": "v_FlFUf8IQTF",
        "colab": {
          "base_uri": "https://localhost:8080/",
          "height": 709
        },
        "outputId": "733c6202-831c-4ceb-8d41-bf4b250ea884"
      },
      "source": [
        "for p in li:\n",
        "    # chuẩn hóa ký tự đặc biệt nếu trong câu có ký tự đặc biệt\n",
        "    text= html.unescape( p )\n",
        "\n",
        "    # Tách dữ liệu thành từng câu: \n",
        "    arr = re.compile(\" (?<!\\w\\.\\w.)(?<![A-Z][a-z]\\.)(?<=\\.|\\?)\\s \").split( text )\n",
        "\n",
        "    #Phân loại từng từ \n",
        "    for sentence in arr:\n",
        "        # x = ViTokenizer.tokenize( sentence )\n",
        "        xx =  ViPosTagger.postagging(ViTokenizer.tokenize( sentence ))\n",
        "        for i in xx:\n",
        "          print(i)"
      ],
      "execution_count": null,
      "outputs": [
        {
          "output_type": "stream",
          "text": [
            "['Lũ', 'rút', ',', 'anh', 'về', 'nhưng', '…', 'không', 'còn', 'chào', 'ai', 'được', 'nữa', '!']\n",
            "['N', 'V', 'F', 'N', 'V', 'C', 'F', 'R', 'V', 'V', 'P', 'V', 'R', 'F']\n",
            "['Dân_trí']\n",
            "['N']\n",
            "['Sáng', '23', '/', '10', ',', 'đường_dẫn', 'vào', 'nhà', 'ông', 'Ngô_Bá_Cường', '(', 'SN', '1960', ',', 'xã', 'Thạch_Thắng', ',', 'huyện', 'Thạch_Hà', ',', 'Hà_Tĩnh', ')', 'nước', 'đã', 'rút', ',', 'nắng', 'đã', 'lên', ',', 'nhưng', 'không_khí', 'vô_cùng', 'buồn', 'thương', 'khi', 'đón', 'liệt_sĩ', 'Ngô', 'Bá_Văn', 'trở', 'về', '.']\n",
            "['N', 'M', 'F', 'M', 'F', 'V', 'V', 'N', 'Nc', 'Np', 'F', 'Ny', 'M', 'F', 'N', 'Np', 'F', 'N', 'Np', 'F', 'Np', 'F', 'N', 'R', 'V', 'F', 'N', 'R', 'V', 'F', 'C', 'N', 'R', 'A', 'V', 'N', 'V', 'N', 'Np', 'Np', 'V', 'V', 'F']\n",
            "['Đón', 'người', 'con', 'quê_hương']\n",
            "['V', 'N', 'N', 'N']\n",
            "['Tối_ngày', '22', '/', '10', ',', 'tại', 'Đài_hóa_thân', 'hoàn_vũ', 'xã', 'Lưu_Vĩnh_Sơn', ',', 'huyện', 'Thạch_Hà', '(', 'Hà_Tĩnh', ')', ',', 'lãnh_đạo', 'Quân_khu', '4', ',', 'tỉnh', 'Hà_Tĩnh', 'và', 'các', 'sở', 'ngành', ',', 'địa_phương', '...', 'đã', 'tới', 'dâng', 'hương', 'tiễn_đưa', 'các', 'liệt_sĩ', 'Đoàn', 'Kinh_tế', '-', 'Quốc_phòng', '337', 'hy_sinh', 'trong', 'khi', 'làm', 'nhiệm_vụ', 'giúp', 'Nhân_dân', 'khắc_phục', 'hậu_quả', 'mưa_lũ', 'tại', 'tỉnh', 'Quảng_Trị', 'về', 'nơi', 'an_nghỉ', 'cuối_cùng', '.']\n",
            "['N', 'M', 'F', 'M', 'F', 'E', 'N', 'N', 'N', 'Np', 'F', 'N', 'Np', 'F', 'Np', 'F', 'F', 'N', 'N', 'M', 'F', 'N', 'Np', 'C', 'L', 'N', 'N', 'F', 'N', 'F', 'R', 'V', 'V', 'N', 'V', 'L', 'N', 'N', 'N', 'F', 'N', 'M', 'V', 'E', 'N', 'V', 'N', 'V', 'N', 'V', 'N', 'N', 'E', 'N', 'Np', 'V', 'N', 'V', 'A', 'F']\n",
            "['Trước', 'đó', 'rạng', 'sáng', '18', '/', '10', ',', 'tại', 'thôn', 'Cợp', ',', 'xã', 'Hướng_Phùng', ',', 'huyện', 'Hướng_Hóa', ',', 'tỉnh', 'Quảng_Trị', 'xảy', 'ra', 'vụ', 'sạt_lở', 'đất', 'nghiêm_trọng', '.', 'Đây', 'là', 'nơi', 'ở', 'của', '27', 'cán_bộ', ',', 'chiến_sĩ', 'của', 'Đoàn', 'Kinh_tế', '-', 'Quốc_phòng', '337', 'đang', 'thực_hiện', 'nhiệm_vụ', 'giúp', 'dân', 'khắc_phục', 'hậu_quả', 'mưa_lũ', '.', 'Vụ', 'sạt_lở', 'đất', 'đã', 'khiến', '22', 'cán_bộ', ',', 'chiến_sĩ', 'hy_sinh', ',', 'trong', 'đó', 'có', 'Thượng_úy', 'quân_nhân', 'chuyên_nghiệp', 'Ngô', 'Bá_Văn', '(', 'sinh', 'ngày', '8', '/', '1', '/', '1984', ',', 'tại', 'thôn', 'Thạch_Thắng', ',', 'huyện', 'Thạch_Hà', ',', 'tỉnh', 'Hà_Tĩnh', ')', '.']\n",
            "['E', 'P', 'A', 'N', 'M', 'F', 'M', 'F', 'E', 'N', 'Np', 'F', 'N', 'Np', 'F', 'N', 'Np', 'F', 'N', 'Np', 'V', 'R', 'N', 'V', 'N', 'A', 'F', 'P', 'V', 'N', 'V', 'E', 'M', 'N', 'F', 'N', 'E', 'Nc', 'N', 'F', 'N', 'M', 'R', 'V', 'N', 'V', 'N', 'V', 'N', 'N', 'F', 'Np', 'V', 'N', 'R', 'V', 'M', 'N', 'F', 'N', 'V', 'F', 'E', 'P', 'V', 'N', 'N', 'A', 'Np', 'Np', 'F', 'V', 'N', 'M', 'F', 'M', 'F', 'M', 'F', 'E', 'N', 'Np', 'F', 'N', 'Np', 'F', 'N', 'Np', 'F', 'F']\n",
            "['Ngay', 'sau', 'lễ', 'viếng', ',', 'truy_điệu', 'tại', 'Quảng_Trị', ',', 'trưa', '22', '/', '10', ',', 'lễ', 'di_quan', 'đã', 'được', 'tiến_hành', 'để', 'tiễn_đưa', 'các', 'liệt_sĩ', 'về', 'địa_phương', '.']\n",
            "['R', 'E', 'N', 'V', 'F', 'N', 'E', 'Np', 'F', 'N', 'M', 'F', 'M', 'F', 'N', 'V', 'R', 'V', 'V', 'E', 'V', 'L', 'N', 'E', 'N', 'F']\n",
            "['7h', 'sáng', '23', '/', '10', ',', 'tuyến', 'đường', 'thôn', 'Trung_Phú', '(', 'trước', 'đó', 'một', 'ngày', 'vẫn', 'chìm', 'sâu', 'trong', 'lũ', ')', 'dẫn', 'vào', 'nhà', 'ông', 'Ngô_Bá_Cường', '-', 'bố', 'đẻ', 'của', 'liệt_sĩ', 'Ngô', 'Bá_Văn', '-', 'rợp', 'cờ', 'đỏ', 'sao', 'vàng', '.', 'Hàng', 'trăm', 'người', 'dân', 'tập_trung', 'đến', 'căn', 'nhà', 'cấp', '4', 'chật_hẹp', 'đón', 'liệt_sĩ', 'Ngô', 'Bá_Văn', 'trở_về', 'trong', 'niềm', 'thương_tiếc', '.']\n",
            "['M', 'N', 'M', 'F', 'M', 'F', 'N', 'N', 'N', 'Np', 'F', 'E', 'P', 'M', 'N', 'R', 'V', 'A', 'E', 'N', 'F', 'V', 'V', 'N', 'Nc', 'Np', 'F', 'N', 'V', 'E', 'N', 'Np', 'Np', 'F', 'N', 'N', 'A', 'P', 'A', 'F', 'R', 'M', 'Nc', 'N', 'V', 'E', 'Nc', 'N', 'N', 'M', 'N', 'V', 'N', 'Np', 'Np', 'V', 'E', 'Nc', 'V', 'F']\n",
            "['Bà', 'Phan_Thị_Hoa', '(', 'SN', '1965', ',', 'xã', 'Thạch_Thắng', ')', 'cho', 'biết', ',', 'những', 'ngày', 'qua', 'xã', 'nhà', 'ngập_chìm', 'trong', 'lũ_lụt', ',', 'nay', 'liệt_sĩ', 'Văn', 'trở', 'về', ',', 'nước', 'đã', 'rút', ',', 'bà_con', 'làng_xóm', 'đến', 'thăm', 'nhưng', 'anh', 'không', 'còn', 'có_thể', 'chào', 'ai', 'được', 'nữa', '.']\n",
            "['Nc', 'Np', 'F', 'Ny', 'M', 'F', 'N', 'Np', 'F', 'V', 'V', 'F', 'L', 'N', 'V', 'N', 'N', 'A', 'E', 'N', 'F', 'N', 'N', 'Np', 'V', 'V', 'F', 'N', 'R', 'V', 'F', 'N', 'N', 'V', 'V', 'C', 'N', 'R', 'R', 'A', 'V', 'P', 'V', 'R', 'F']\n",
            "['“', 'Anh', 'Văn', 'sống', 'hiền_lành', ',', 'mỗi', 'lần', 'cất', 'phép', 'về', 'quê', 'đều', 'niềm_nở', 'đến', 'thăm_hỏi', 'bà_con', '.', 'Giờ', 'anh', 'gặp', 'nạn', ',', 'bà_con', 'chúng_tôi', 'đến', 'thăm', 'anh', 'nhưng', 'có', 'bao_giờ', 'nghe', 'anh', 'nói', 'được', 'nữa', 'đâu', 'chú', '…', '!', '”', '-', 'bà', 'Hoa', 'gạt', 'nước_mắt', '.']\n",
            "['F', 'Nc', 'Np', 'V', 'A', 'F', 'M', 'N', 'V', 'N', 'V', 'N', 'R', 'A', 'R', 'V', 'N', 'F', 'N', 'N', 'V', 'N', 'F', 'N', 'P', 'V', 'V', 'N', 'C', 'V', 'P', 'V', 'N', 'V', 'R', 'R', 'R', 'N', 'F', 'F', 'F', 'F', 'Nc', 'Np', 'V', 'N', 'F']\n",
            "['“', 'Bố', 'về', 'nhưng', 'các', 'con', 'không', 'còn', 'được', 'ôm', 'nữa', '!', '”']\n",
            "['F', 'N', 'V', 'C', 'L', 'N', 'R', 'V', 'V', 'V', 'T', 'F', 'F']\n",
            "['Gia_đình', 'quân_nhân', 'Ngô', 'Bá_Văn', 'có', 'hoàn_cảnh', 'khó_khăn', '.', 'Bố_mẹ', 'đã', 'già_yếu', ',', 'vợ', 'đi', 'xuất_khẩu', 'lao_động', 'ở', 'nước_ngoài', ',', 'hai', 'con', 'nhỏ', 'là', 'cháu', 'Ngô_Bá', 'Nhật_Anh', '(', '9', 'tuổi', ')', 'và', 'Ngô_Bá', 'Bảo_Nguyên', '(', '7', 'tuổi', ')', 'hiện', 'đang', 'nhờ', 'ông', 'bà', 'nội', 'trông_nom', '.']\n",
            "['N', 'Nc', 'Np', 'Np', 'V', 'N', 'A', 'F', 'N', 'R', 'A', 'F', 'N', 'V', 'V', 'N', 'E', 'N', 'F', 'M', 'N', 'A', 'C', 'N', 'Np', 'Np', 'F', 'M', 'N', 'F', 'C', 'Np', 'Np', 'F', 'M', 'Nu', 'F', 'N', 'R', 'V', 'N', 'N', 'N', 'V', 'F']\n",
            "['Khi', 'nghe', 'tin', 'chồng', 'hy_sinh', 'trong', 'lúc', 'làm', 'nhiệm_vụ', ',', 'chị', 'Lê_Thị_Thủy_vợ', 'liệt_sĩ', 'Ngô', 'Bá_Văn', 'đang', 'đi', 'làm_ăn_ở', 'nước_ngoài', 'vội_vã', 'về', 'chịu_tang', 'chồng', ',', 'nhưng', 'vì', 'diễn_biến', 'phức_tạp', 'của', 'dịch', 'Covid', '-', '19', ',', 'chị', 'đã', 'phải']\n",
            "['N', 'V', 'N', 'N', 'V', 'E', 'N', 'V', 'N', 'F', 'N', 'V', 'N', 'Np', 'Np', 'R', 'V', 'V', 'N', 'A', 'E', 'N', 'N', 'F', 'C', 'E', 'N', 'A', 'E', 'N', 'Np', 'F', 'M', 'F', 'N', 'R', 'V']\n",
            "['chịu_tang', 'chồng', 'trong', 'khu', 'cách_ly']\n",
            "['V', 'N', 'E', 'N', 'V']\n",
            "['xã', 'Thanh_Hưng', ',', 'huyện', 'Thanh_Chương', '.']\n",
            "['N', 'Np', 'F', 'N', 'Np', 'F']\n",
            "['Ông', 'Ngô_Bá_Cường', '(', 'SN', '1960', ')', 'và', 'bà', 'Lê_Thị_Khẩn', '(', 'SN', '1960', ')', 'từ', 'khi', 'nghe', 'con', 'gặp', 'nạn', ',', 'không', 'đêm', 'nào', 'chợp', 'mắt', '.', 'Đã', 'khóc', 'cạn', 'nước_mắt', ',', 'hôm_nay', 'đón', 'con', 'về', 'ông', 'Cường', 'không_thể', 'đi', 'nổi', ',', 'cứ', 'ngồi_bệt', 'ở', 'góc', 'nhà', 'khản', 'giọng', 'gọi', 'tên', 'con', '.']\n",
            "['Nc', 'Np', 'F', 'Ny', 'M', 'F', 'C', 'Nc', 'Np', 'F', 'Ny', 'M', 'F', 'E', 'N', 'V', 'N', 'V', 'N', 'F', 'R', 'N', 'P', 'V', 'N', 'F', 'R', 'V', 'A', 'N', 'F', 'N', 'V', 'N', 'E', 'Nc', 'Np', 'R', 'V', 'R', 'F', 'R', 'V', 'E', 'N', 'N', 'A', 'N', 'V', 'N', 'N', 'F']\n",
            "['“', 'Vợ', 'nó', 'đi', 'xuất_khẩu', 'lao_động', ',', '2', 'đứa', 'con', 'nhỏ', 'gửi', 'cho', 'vợ_chồng', 'tôi', 'chăm', 'non', '.', 'Một', 'năm', 'nó', 'về', 'được', 'có', 'mấy', 'lần', ',', 'lần', 'này', 'đi', 'làm', 'nhiệm_vụ', 'nó', 'có', 'gọi', 'về', 'cho', 'tôi', 'dặn_dò', 'bố_mẹ', 'ở', 'nhà', 'giữ_gìn', 'sức_khỏe', ',', 'dạy_bảo', 'các', 'cháu', 'chăm_chỉ', 'học_hành', '.', 'Có', 'ngờ_đâu', ',', 'đó', 'là', 'lời', 'dặn_dò', 'cuối_cùng', '.', '”', '–', 'ông', 'Cường', 'khóc', 'nghẹn', '.']\n",
            "['F', 'N', 'P', 'V', 'V', 'N', 'F', 'M', 'Nc', 'N', 'A', 'V', 'E', 'N', 'P', 'V', 'A', 'F', 'M', 'N', 'P', 'V', 'R', 'V', 'L', 'N', 'F', 'N', 'P', 'V', 'V', 'N', 'P', 'V', 'V', 'R', 'E', 'P', 'V', 'N', 'E', 'N', 'V', 'N', 'F', 'A', 'L', 'N', 'V', 'V', 'F', 'V', 'N', 'F', 'P', 'V', 'N', 'V', 'A', 'F', 'F', 'N', 'Nc', 'Np', 'V', 'V', 'F']\n",
            "['Xót_xa', 'hơn', 'là', 'hai', 'đứa', 'nhỏ', 'phải', 'xa', 'bố_mẹ', ',', 'chúng', 'luôn', 'trông_ngóng', 'những', 'lần', 'bố', 'về', 'để', 'chạy', 'ra', 'được', 'bố', 'bế', 'lên', 'vai', 'âu_yếm', '.', 'Thế_mà', 'lần', 'này', 'bố', 'các', 'cháu', 'đã', 'về', 'nhưng', 'không', 'còn', 'hình_hài', 'nữa', ',', 'những', 'đứa', 'trẻ', 'chỉ', 'biết', 'đứng', 'từ', 'xa', ',', 'bần_thần', 'rơi', 'nước_mắt', 'nhìn', 'linh_cữu', '.']\n",
            "['A', 'R', 'V', 'M', 'Nc', 'A', 'V', 'A', 'N', 'F', 'P', 'R', 'V', 'L', 'N', 'N', 'V', 'E', 'V', 'R', 'V', 'N', 'V', 'V', 'N', 'V', 'F', 'N', 'N', 'P', 'N', 'L', 'N', 'R', 'V', 'C', 'R', 'R', 'A', 'R', 'F', 'L', 'Nc', 'N', 'R', 'V', 'V', 'E', 'A', 'F', 'N', 'V', 'N', 'V', 'N', 'F']\n",
            "['“', 'Các', 'cháu', 'nó', 'thường_xuyên', 'hỏi', 'ông_bà', 'khi', 'nào', 'bố', 'về', 'để', 'được', 'ôm', 'lấy', 'bố', '.', 'Giờ', 'bố', 'về', 'rồi', 'đó', 'các', 'con', 'ơi', ',', 'nhưng', 'các', 'con', 'có', 'bao_giờ', 'được', 'ôm', 'lấy', 'bố', 'nữa', 'đâu', '”', '–', 'ông', 'Cường', 'gạt', 'nước_mắt', 'đau_đớn', '.']\n",
            "['F', 'L', 'N', 'P', 'A', 'V', 'N', 'N', 'P', 'N', 'V', 'E', 'V', 'V', 'V', 'N', 'F', 'N', 'N', 'E', 'C', 'P', 'L', 'N', 'T', 'F', 'C', 'L', 'N', 'V', 'P', 'R', 'V', 'V', 'N', 'R', 'T', 'F', 'E', 'Nc', 'Np', 'V', 'N', 'A', 'F']\n",
            "['Tiến_Hiệp']\n",
            "['Np']\n"
          ],
          "name": "stdout"
        }
      ]
    }
  ]
}